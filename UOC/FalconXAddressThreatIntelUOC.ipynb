{
 "cells": [
  {
   "cell_type": "code",
   "execution_count": 1,
   "metadata": {},
   "outputs": [],
   "source": [
    "import json\n",
    "import requests\n",
    "import pandas as pd"
   ]
  },
  {
   "cell_type": "code",
   "execution_count": 2,
   "metadata": {},
   "outputs": [],
   "source": [
    "# Suppress SSL warning\n",
    "from requests.packages.urllib3.exceptions import InsecureRequestWarning\n",
    "requests.packages.urllib3.disable_warnings(InsecureRequestWarning)"
   ]
  },
  {
   "cell_type": "code",
   "execution_count": 4,
   "metadata": {},
   "outputs": [],
   "source": [
    "headers = {'Content-Type': 'application/x-www-form-urlencoded',\n",
    "           'Accept': 'application/json',\n",
    "          }\n",
    "req_body = 'client_id=API-KEY&client_secret=API-SECRET'\n",
    "endpoint = 'https://api.crowdstrike.com/oauth2/token'\n",
    "\n",
    "r = requests.post(endpoint, req_body, headers=headers, verify=False)\n",
    "at = r.json()[\"access_token\"]\n",
    "#at"
   ]
  },
  {
   "cell_type": "code",
   "execution_count": 6,
   "metadata": {},
   "outputs": [],
   "source": [
    "headers = {#'Content-Type': 'application/x-www-form-urlencoded',\n",
    "           'Accept': 'application/json',\n",
    "           'authorization': 'bearer ' + at #<---- Pass 'at' variable to be used as the bearer token       \n",
    "          }\n",
    "endpoint = \"https://api.crowdstrike.com/intel/queries/indicators/v1?filter=type:'ip_address'\"\n",
    "r = requests.get(endpoint,headers=headers)\n",
    "ioc = r.json()['resources']\n",
    "#ioc"
   ]
  },
  {
   "cell_type": "code",
   "execution_count": 8,
   "metadata": {},
   "outputs": [],
   "source": [
    "df = pd.DataFrame(ioc)\n",
    "pd.set_option('display.max_rows', None)\n",
    "df.rename( columns={0:'addr'}, inplace=True )\n",
    "df\n",
    "ip = df['addr']\n",
    "s = pd.Series(ip)\n",
    "fx_ips = s.str.rsplit(pat='_',n=2, expand=True)\n",
    "fx_ips = fx_ips[2]\n",
    "folder = '/app/notebooks/attack/start/threatintel/fxips.csv'\n",
    "fx_ips.to_csv(folder, index = False)\n",
    "#fx_ips"
   ]
  },
  {
   "cell_type": "code",
   "execution_count": 9,
   "metadata": {},
   "outputs": [
    {
     "name": "stdout",
     "output_type": "stream",
     "text": [
      "-rw-rw-r-- 1 admin admin 1431 Oct 18 15:10 threatintel/fxips.csv\n"
     ]
    }
   ],
   "source": [
    "!ls -al threatintel/fxips.csv"
   ]
  },
  {
   "cell_type": "code",
   "execution_count": 10,
   "metadata": {},
   "outputs": [],
   "source": [
    "myAPI = 'RevealX-API-KEY'"
   ]
  },
  {
   "cell_type": "code",
   "execution_count": 11,
   "metadata": {},
   "outputs": [],
   "source": [
    "## Upload Threat Intelligence Kit to Reveal(x) Sensor\n",
    "!threatintel/threatTK.py -o threatintel/ -tc FalconXIPs --generate-stix --input-file threatintel/fxips.csv  --list-type ip --eda sensor.i.rx.tours $myAPI False\n"
   ]
  },
  {
   "cell_type": "code",
   "execution_count": null,
   "metadata": {},
   "outputs": [],
   "source": []
  }
 ],
 "metadata": {
  "kernelspec": {
   "display_name": "Python 3",
   "language": "python",
   "name": "python3"
  },
  "language_info": {
   "codemirror_mode": {
    "name": "ipython",
    "version": 2
   },
   "file_extension": ".py",
   "mimetype": "text/x-python",
   "name": "python",
   "nbconvert_exporter": "python",
   "pygments_lexer": "ipython2",
   "version": "2.7.15"
  }
 },
 "nbformat": 4,
 "nbformat_minor": 5
}
