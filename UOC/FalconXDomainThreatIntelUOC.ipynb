{
 "cells": [
  {
   "cell_type": "code",
   "execution_count": null,
   "metadata": {},
   "outputs": [],
   "source": [
    "import json\n",
    "import requests\n",
    "import pandas as pd"
   ]
  },
  {
   "cell_type": "code",
   "execution_count": null,
   "metadata": {},
   "outputs": [],
   "source": [
    "# Suppress SSL warning\n",
    "from requests.packages.urllib3.exceptions import InsecureRequestWarning\n",
    "requests.packages.urllib3.disable_warnings(InsecureRequestWarning)"
   ]
  },
  {
   "cell_type": "code",
   "execution_count": null,
   "metadata": {},
   "outputs": [],
   "source": [
    "#Enter your API Credentials Below\n",
    "headers = {'Content-Type': 'application/x-www-form-urlencoded',\n",
    "           'Accept': 'application/json',\n",
    "          }\n",
    "req_body = 'client_id=API-KEY&client_secret=API-SECRET'\n",
    "endpoint = 'https://api.crowdstrike.com/oauth2/token'\n",
    "\n",
    "r = requests.post(endpoint, req_body, headers=headers, verify=False)\n",
    "at = r.json()[\"access_token\"]\n",
    "#at"
   ]
  },
  {
   "cell_type": "code",
   "execution_count": 111,
   "metadata": {},
   "outputs": [],
   "source": [
    "headers = {#'Content-Type': 'application/x-www-form-urlencoded',\n",
    "           'Accept': 'application/json',\n",
    "           'authorization': 'bearer ' + at #<---- Pass 'at' variable to be used as the bearer token       \n",
    "          }\n",
    "endpoint = \"https://api.crowdstrike.com/intel/queries/indicators/v1?filter=type:'ip_address'\"\n",
    "r = requests.get(endpoint,headers=headers)\n",
    "ioc = r.json()['resources']\n",
    "#ioc\n",
    "#ThreatType/TargetedCrimeware\n",
    "#filter=labels:'IPAddressType/Sinkhole'\""
   ]
  },
  {
   "cell_type": "code",
   "execution_count": 112,
   "metadata": {},
   "outputs": [
    {
     "data": {
      "text/plain": [
       "0     213.227.155.241\n",
       "1      213.227.155.48\n",
       "2     213.227.155.246\n",
       "3       23.82.141.150\n",
       "4      213.227.155.75\n",
       "5     167.114.135.120\n",
       "6       167.114.10.99\n",
       "7     213.152.161.229\n",
       "8      91.214.124.215\n",
       "9         45.77.18.90\n",
       "10      136.232.34.70\n",
       "11     185.215.113.94\n",
       "12     185.163.45.140\n",
       "13      195.211.40.62\n",
       "14     104.128.189.34\n",
       "15    172.105.227.149\n",
       "16      139.162.76.70\n",
       "17     200.141.22.197\n",
       "18      66.70.207.149\n",
       "19      20.197.180.49\n",
       "20      89.179.71.186\n",
       "21     104.238.176.50\n",
       "22    167.114.135.121\n",
       "23    140.238.186.139\n",
       "24      54.39.115.114\n",
       "25     149.56.249.115\n",
       "26       51.222.22.23\n",
       "27      149.56.245.51\n",
       "28      149.56.245.49\n",
       "29     144.217.195.29\n",
       "30      20.195.225.61\n",
       "31      20.206.108.18\n",
       "32      34.212.21.112\n",
       "33      23.106.125.23\n",
       "34      20.195.189.99\n",
       "35      149.56.245.50\n",
       "36       20.97.17.152\n",
       "37      3.137.171.221\n",
       "38     203.12.202.137\n",
       "39      1.171.174.202\n",
       "40      47.101.200.29\n",
       "41        45.74.4.244\n",
       "42        13.58.130.0\n",
       "43    213.152.162.149\n",
       "44    114.115.184.198\n",
       "45    138.201.230.173\n",
       "46       25.46.171.60\n",
       "47     185.148.241.39\n",
       "48    194.163.139.252\n",
       "49       66.29.149.71\n",
       "50      20.79.255.130\n",
       "51     88.222.200.167\n",
       "52       13.95.29.211\n",
       "53     78.189.207.184\n",
       "54       20.112.36.48\n",
       "55      93.56.104.120\n",
       "56       3.134.39.220\n",
       "57     122.51.228.207\n",
       "58      172.104.101.5\n",
       "59     94.121.247.240\n",
       "60        5.165.63.13\n",
       "61    103.210.237.121\n",
       "62      106.15.163.57\n",
       "63       117.68.100.6\n",
       "64     101.35.150.174\n",
       "65      47.101.144.83\n",
       "66      185.201.47.42\n",
       "67        45.88.3.225\n",
       "68       3.121.85.109\n",
       "69       77.51.89.159\n",
       "70       92.139.11.27\n",
       "71       185.92.74.40\n",
       "72    185.139.139.195\n",
       "73       27.62.212.68\n",
       "74        85.140.4.95\n",
       "75      203.91.199.94\n",
       "76     109.123.90.217\n",
       "77      94.26.248.120\n",
       "78       20.98.111.29\n",
       "79      157.90.140.39\n",
       "80     172.104.122.42\n",
       "81      91.151.88.146\n",
       "82        45.9.20.182\n",
       "83    103.212.180.246\n",
       "84    207.148.121.188\n",
       "85      194.33.45.119\n",
       "86      185.195.26.13\n",
       "87     109.108.50.100\n",
       "88        45.63.0.171\n",
       "89     23.227.203.217\n",
       "90      207.246.111.8\n",
       "91      193.32.23.164\n",
       "92      139.60.161.48\n",
       "93      39.107.141.48\n",
       "94      103.79.77.200\n",
       "95       60.205.179.9\n",
       "96     114.132.229.76\n",
       "97      104.168.9.174\n",
       "98     139.180.147.62\n",
       "99    165.227.167.236\n",
       "Name: 2, dtype: object"
      ]
     },
     "execution_count": 112,
     "metadata": {},
     "output_type": "execute_result"
    }
   ],
   "source": [
    "df = pd.DataFrame(ioc)\n",
    "pd.set_option('display.max_rows', None)\n",
    "df.rename( columns={0:'addr'}, inplace=True )\n",
    "df\n",
    "ip = df['addr']\n",
    "s = pd.Series(ip)\n",
    "fx_ips = s.str.rsplit(pat='_',n=2, expand=True)\n",
    "fx_ips = fx_ips[2]\n",
    "folder = '/app/notebooks/attack/start/threatintel/fxips.csv'\n",
    "fx_ips.to_csv(folder, index = False)\n",
    "fx_ips"
   ]
  },
  {
   "cell_type": "code",
   "execution_count": 94,
   "metadata": {},
   "outputs": [
    {
     "name": "stdout",
     "output_type": "stream",
     "text": [
      "-rw-rw-r-- 1 admin admin 1426 Oct 18 12:57 threatintel/fxips.csv\n"
     ]
    }
   ],
   "source": [
    "!ls -al threatintel/fxips.csv"
   ]
  },
  {
   "cell_type": "code",
   "execution_count": 95,
   "metadata": {},
   "outputs": [],
   "source": [
    "myAPI = 'k7YUT8CVqvMTj_t9lbd-1i5jwq0qXq0fQNGpo0UlS4s'"
   ]
  },
  {
   "cell_type": "code",
   "execution_count": 96,
   "metadata": {},
   "outputs": [],
   "source": [
    "## Upload Threat Intelligence Kit to Reveal(x) Sensor\n",
    "!threatintel/threatTK.py -o threatintel/ -tc FalconXIPs --generate-stix --input-file threatintel/fxips.csv  --list-type ip --eda sensor.i.rx.tours $myAPI False\n"
   ]
  },
  {
   "cell_type": "code",
   "execution_count": null,
   "metadata": {},
   "outputs": [],
   "source": []
  }
 ],
 "metadata": {
  "kernelspec": {
   "display_name": "Python 3",
   "language": "python",
   "name": "python3"
  },
  "language_info": {
   "codemirror_mode": {
    "name": "ipython",
    "version": 3
   },
   "file_extension": ".py",
   "mimetype": "text/x-python",
   "name": "python",
   "nbconvert_exporter": "python",
   "pygments_lexer": "ipython3",
   "version": "3.8.5"
  }
 },
 "nbformat": 4,
 "nbformat_minor": 5
}
